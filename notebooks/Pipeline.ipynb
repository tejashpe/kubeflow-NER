{
 "cells": [
  {
   "cell_type": "markdown",
   "metadata": {},
   "source": [
    "# Named Entity Recognition pipeline"
   ]
  },
  {
   "cell_type": "code",
   "execution_count": 36,
   "metadata": {},
   "outputs": [],
   "source": [
    "EXPERIMENT_NAME = 'named-entity-recognition1'\n",
    "#BUCKET = \"kubeflow-sharkheads\"\n",
    "#GCP_SECRET=\"kfp.gcp.use_gcp_secret('user-gcp-sa')\""
   ]
  },
  {
   "cell_type": "markdown",
   "metadata": {},
   "source": [
    "## Imports"
   ]
  },
  {
   "cell_type": "code",
   "execution_count": 4,
   "metadata": {},
   "outputs": [],
   "source": [
    "import kfp\n",
    "from kfp import compiler\n",
    "import kfp.components as comp\n",
    "import kfp.dsl as dsl\n",
    "from kfp import gcp"
   ]
  },
  {
   "cell_type": "markdown",
   "metadata": {},
   "source": [
    "## Load components"
   ]
  },
  {
   "cell_type": "code",
   "execution_count": 5,
   "metadata": {},
   "outputs": [
    {
     "name": "stdout",
     "output_type": "stream",
     "text": [
      "Help on function preprocess:\n",
      "\n",
      "preprocess(input_1_uri: 'GCSPath', output_x_uri_template: 'GCSPath', output_y_uri_template: 'GCSPath', output_preprocessing_state_uri_template: 'GCSPath')\n",
      "    preprocess\n",
      "    Performs the IOB preprocessing.\n",
      "\n",
      "Help on function train:\n",
      "\n",
      "train(input_x_uri: 'GCSPath', input_y_uri: 'GCSPath', input_job_dir_uri: 'GCSPath', input_tags: int, input_words: int, input_dropout, output_model_uri_template: 'GCSPath')\n",
      "    train\n",
      "    Trains the NER Bi-LSTM.\n",
      "\n",
      "Help on function deploy:\n",
      "\n",
      "deploy(model_path: 'GCSPath', model_name: str, model_region: str, model_version: str, model_runtime_version: str, model_prediction_class: str, model_python_version: str, model_package_uris: str)\n",
      "    deploy\n",
      "    Deploy the model with custom prediction route\n",
      "\n"
     ]
    }
   ],
   "source": [
    "preprocess_operation = kfp.components.load_component_from_file(\n",
    "    '/bd-fs-mnt/TenantShare/repo/code/kubeflow-NER/components/preprocess/component.yaml')\n",
    "help(preprocess_operation)\n",
    "\n",
    "train_operation = kfp.components.load_component_from_file(\n",
    "    '/bd-fs-mnt/TenantShare/repo/code/kubeflow-NER/components/train/component.yaml')\n",
    "help(train_operation)\n",
    "\n",
    "ai_platform_deploy_operation = comp.load_component_from_file(\n",
    "    \"/bd-fs-mnt/TenantShare/repo/code/kubeflow-NER/components/deploy/component.yaml\")\n",
    "help(ai_platform_deploy_operation)"
   ]
  },
  {
   "cell_type": "markdown",
   "metadata": {},
   "source": [
    "## Build the Pipeline "
   ]
  },
  {
   "cell_type": "code",
   "execution_count": 48,
   "metadata": {},
   "outputs": [],
   "source": [
    "@dsl.pipeline(\n",
    "  name='Named Entity Recognition Pipeline',\n",
    "  description='Performs preprocessing, training and deployment.'\n",
    ")\n",
    "def pipeline():\n",
    "    \n",
    "    preprocess_task = preprocess_operation(\n",
    "        input_1_uri='/bd-fs-mnt/TenantShare/repo/data/raw/ner.csv',\n",
    "        output_y_uri_template=\"/bd-fs-mnt/TenantShare/repo/data/preprocess/y/data\",\n",
    "        output_x_uri_template=\"/bd-fs-mnt/TenantShare/repo/data/preprocess/x/data\",\n",
    "        output_preprocessing_state_uri_template=\"/bd-fs-mnt/TenantShare/repo/model/ner\"\n",
    "    ) \n",
    "    \n",
    "    \n",
    "    train_task = train_operation(\n",
    "        input_x_uri=preprocess_task.outputs['output_x_uri'],\n",
    "        input_y_uri=preprocess_task.outputs['output_y_uri'],\n",
    "        input_job_dir_uri=\"/bd-fs-mnt/TenantShare/repo/misc/job\",\n",
    "        input_tags=preprocess_task.outputs['output_tags'],\n",
    "        input_words=preprocess_task.outputs['output_words'],\n",
    "        input_dropout=0.1,\n",
    "        output_model_uri_template=\"/bd-fs-mnt/TenantShare/repo/model/ner\"\n",
    "    )\n",
    "    \n",
    "    \n",
    "    # deploy_task = ai_platform_deploy_operation(\n",
    "    #     model_path= train_task.output,\n",
    "    #     model_name=\"named_entity_recognition_kubeflow\",\n",
    "    #     model_region=\"us-central1\",\n",
    "    #     model_version=\"version1\",\n",
    "    #     model_runtime_version=\"1.13\",\n",
    "    #     model_prediction_class=\"model_prediction.CustomModelPrediction\",\n",
    "    #     model_python_version=\"3.5\",\n",
    "    #     model_package_uris=\"gs://{}/routine/custom_prediction_routine-0.2.tar.gz\".format(BUCKET)\n",
    "    # )"
   ]
  },
  {
   "cell_type": "markdown",
   "metadata": {},
   "source": [
    "## Compile the Pipeline"
   ]
  },
  {
   "cell_type": "code",
   "execution_count": 49,
   "metadata": {},
   "outputs": [
    {
     "name": "stdout",
     "output_type": "stream",
     "text": [
      "type name String is different from expected: GCSPath\n",
      "type name String is different from expected: Integer\n",
      "type name String is different from expected: Integer\n"
     ]
    }
   ],
   "source": [
    "pipeline_func = pipeline\n",
    "pipeline_filename = pipeline_func.__name__ + '.pipeline.zip'\n",
    "\n",
    "import kfp.compiler as compiler\n",
    "compiler.Compiler().compile(pipeline_func, pipeline_filename,type_check=False)"
   ]
  },
  {
   "cell_type": "markdown",
   "metadata": {},
   "source": [
    "## Create a Kubeflow Experiment"
   ]
  },
  {
   "cell_type": "code",
   "execution_count": 43,
   "metadata": {},
   "outputs": [
    {
     "name": "stdout",
     "output_type": "stream",
     "text": [
      "{'created_at': datetime.datetime(2021, 2, 21, 10, 46, 20, tzinfo=tzlocal()),\n",
      " 'description': None,\n",
      " 'id': '879c7655-e5ec-4a50-b9c9-fbc16f5438b9',\n",
      " 'name': 'named-entity-recognition1',\n",
      " 'resource_references': None,\n",
      " 'storage_state': 'STORAGESTATE_AVAILABLE'}\n"
     ]
    }
   ],
   "source": [
    "client = kfp.Client(host='https://68553fbb7778caf8-dot-us-central2.pipelines.googleusercontent.com')\n",
    "\n",
    "try:\n",
    "    experiment = client.get_experiment(experiment_name=EXPERIMENT_NAME)\n",
    "except:\n",
    "    experiment = client.create_experiment(EXPERIMENT_NAME)\n",
    "    \n",
    "print(experiment)"
   ]
  },
  {
   "cell_type": "markdown",
   "metadata": {},
   "source": [
    "## Run the Pipeline"
   ]
  },
  {
   "cell_type": "code",
   "execution_count": 44,
   "metadata": {},
   "outputs": [
    {
     "data": {
      "text/html": [
       "<a href=\"https://68553fbb7778caf8-dot-us-central2.pipelines.googleusercontent.com/#/runs/details/8171a7d0-8568-4ab9-b3a0-d644f5ccf57f\" target=\"_blank\" >Run details</a>."
      ],
      "text/plain": [
       "<IPython.core.display.HTML object>"
      ]
     },
     "metadata": {},
     "output_type": "display_data"
    },
    {
     "name": "stdout",
     "output_type": "stream",
     "text": [
      "879c7655-e5ec-4a50-b9c9-fbc16f5438b9\n",
      "pipeline run\n",
      "pipeline.pipeline.zip\n",
      "{}\n"
     ]
    }
   ],
   "source": [
    "arguments = {}\n",
    "\n",
    "run_name = pipeline_func.__name__ + ' run'\n",
    "run_result = client.run_pipeline(experiment.id, \n",
    "                                 run_name, \n",
    "                                 pipeline_filename, \n",
    "                                 arguments)\n",
    "\n",
    "print(experiment.id)\n",
    "print(run_name)\n",
    "print(pipeline_filename)\n",
    "print(arguments)"
   ]
  },
  {
   "cell_type": "code",
   "execution_count": null,
   "metadata": {},
   "outputs": [],
   "source": []
  }
 ],
 "metadata": {
  "environment": {
   "name": "common-cpu.mnightly-2021-02-12-debian-10-test",
   "type": "gcloud",
   "uri": "gcr.io/deeplearning-platform-release/base-cpu:mnightly-2021-02-12-debian-10-test"
  },
  "kernelspec": {
   "display_name": "Python 3",
   "language": "python",
   "name": "python3"
  },
  "language_info": {
   "codemirror_mode": {
    "name": "ipython",
    "version": 3
   },
   "file_extension": ".py",
   "mimetype": "text/x-python",
   "name": "python",
   "nbconvert_exporter": "python",
   "pygments_lexer": "ipython3",
   "version": "3.7.9"
  }
 },
 "nbformat": 4,
 "nbformat_minor": 4
}